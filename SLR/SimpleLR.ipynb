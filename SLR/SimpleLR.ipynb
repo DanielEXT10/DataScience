{
 "cells": [
  {
   "cell_type": "markdown",
   "metadata": {},
   "source": [
    "# Simple Linear Regression"
   ]
  },
  {
   "cell_type": "code",
   "execution_count": 14,
   "metadata": {},
   "outputs": [],
   "source": [
    "import pandas as pd \n",
    "import matplotlib.pyplot as plt\n",
    "import numpy as np\n",
    "import os\n",
    "%matplotlib inline"
   ]
  },
  {
   "cell_type": "code",
   "execution_count": null,
   "metadata": {},
   "outputs": [
    {
     "name": "stdout",
     "output_type": "stream",
     "text": [
      "Dataset URL: https://www.kaggle.com/datasets/burnoutminer/heights-and-weights-dataset\n",
      "License(s): other\n",
      "heights-and-weights-dataset.zip: Skipping, found more recently modified local copy (use --force to force download)\n",
      "Archive:  heights-and-weights-dataset.zip\n"
     ]
    },
    {
     "name": "stderr",
     "output_type": "stream",
     "text": [
      "replace SOCR-HeightWeight.csv? [y]es, [n]o, [A]ll, [N]one, [r]ename: "
     ]
    },
    {
     "name": "stdout",
     "output_type": "stream",
     "text": [
      "   Index  Height(Inches)  Weight(Pounds)\n",
      "0      1        65.78331        112.9925\n",
      "1      2        71.51521        136.4873\n",
      "2      3        69.39874        153.0269\n",
      "3      4        68.21660        142.3354\n",
      "4      5        67.78781        144.2971\n"
     ]
    }
   ],
   "source": [
    "#get the dataset from kaggle\n",
    "os.system(\"kaggle datasets download -d burnoutminer/heights-and-weights-dataset\")\n",
    "os.system(\"unzip heights-and-weights-dataset.zip\")\n",
    "\n",
    "# Load into pandas\n"
   ]
  },
  {
   "cell_type": "code",
   "execution_count": 22,
   "metadata": {},
   "outputs": [
    {
     "name": "stdout",
     "output_type": "stream",
     "text": [
      "   Index  Height(Inches)  Weight(Pounds)\n",
      "0      1        65.78331        112.9925\n",
      "1      2        71.51521        136.4873\n",
      "2      3        69.39874        153.0269\n",
      "3      4        68.21660        142.3354\n",
      "4      5        67.78781        144.2971\n"
     ]
    }
   ],
   "source": [
    "df = pd.read_csv(\"SOCR-HeightWeight.csv\"\n",
    "                 )\n",
    "print(df.head())"
   ]
  },
  {
   "cell_type": "code",
   "execution_count": 23,
   "metadata": {},
   "outputs": [],
   "source": [
    "df['Height(cm)'] = df['Height(Inches)']*2.56"
   ]
  },
  {
   "cell_type": "code",
   "execution_count": 24,
   "metadata": {},
   "outputs": [],
   "source": [
    "df['Weight(Kg)'] = df['Weight(Pounds)']*0.453"
   ]
  },
  {
   "cell_type": "code",
   "execution_count": 25,
   "metadata": {},
   "outputs": [
    {
     "data": {
      "text/html": [
       "<div>\n",
       "<style scoped>\n",
       "    .dataframe tbody tr th:only-of-type {\n",
       "        vertical-align: middle;\n",
       "    }\n",
       "\n",
       "    .dataframe tbody tr th {\n",
       "        vertical-align: top;\n",
       "    }\n",
       "\n",
       "    .dataframe thead th {\n",
       "        text-align: right;\n",
       "    }\n",
       "</style>\n",
       "<table border=\"1\" class=\"dataframe\">\n",
       "  <thead>\n",
       "    <tr style=\"text-align: right;\">\n",
       "      <th></th>\n",
       "      <th>Index</th>\n",
       "      <th>Height(Inches)</th>\n",
       "      <th>Weight(Pounds)</th>\n",
       "      <th>Height(cm)</th>\n",
       "      <th>Weight(Kg)</th>\n",
       "    </tr>\n",
       "  </thead>\n",
       "  <tbody>\n",
       "    <tr>\n",
       "      <th>0</th>\n",
       "      <td>1</td>\n",
       "      <td>65.78331</td>\n",
       "      <td>112.9925</td>\n",
       "      <td>168.405274</td>\n",
       "      <td>51.185603</td>\n",
       "    </tr>\n",
       "    <tr>\n",
       "      <th>1</th>\n",
       "      <td>2</td>\n",
       "      <td>71.51521</td>\n",
       "      <td>136.4873</td>\n",
       "      <td>183.078938</td>\n",
       "      <td>61.828747</td>\n",
       "    </tr>\n",
       "    <tr>\n",
       "      <th>2</th>\n",
       "      <td>3</td>\n",
       "      <td>69.39874</td>\n",
       "      <td>153.0269</td>\n",
       "      <td>177.660774</td>\n",
       "      <td>69.321186</td>\n",
       "    </tr>\n",
       "    <tr>\n",
       "      <th>3</th>\n",
       "      <td>4</td>\n",
       "      <td>68.21660</td>\n",
       "      <td>142.3354</td>\n",
       "      <td>174.634496</td>\n",
       "      <td>64.477936</td>\n",
       "    </tr>\n",
       "    <tr>\n",
       "      <th>4</th>\n",
       "      <td>5</td>\n",
       "      <td>67.78781</td>\n",
       "      <td>144.2971</td>\n",
       "      <td>173.536794</td>\n",
       "      <td>65.366586</td>\n",
       "    </tr>\n",
       "  </tbody>\n",
       "</table>\n",
       "</div>"
      ],
      "text/plain": [
       "   Index  Height(Inches)  Weight(Pounds)  Height(cm)  Weight(Kg)\n",
       "0      1        65.78331        112.9925  168.405274   51.185603\n",
       "1      2        71.51521        136.4873  183.078938   61.828747\n",
       "2      3        69.39874        153.0269  177.660774   69.321186\n",
       "3      4        68.21660        142.3354  174.634496   64.477936\n",
       "4      5        67.78781        144.2971  173.536794   65.366586"
      ]
     },
     "execution_count": 25,
     "metadata": {},
     "output_type": "execute_result"
    }
   ],
   "source": [
    "df.head()"
   ]
  },
  {
   "cell_type": "code",
   "execution_count": 26,
   "metadata": {},
   "outputs": [
    {
     "data": {
      "image/png": "[encoded data removed]",
      "text/plain": [
       "<Figure size 640x480 with 1 Axes>"
      ]
     },
     "metadata": {},
     "output_type": "display_data"
    }
   ],
   "source": [
    "plt.scatter(df['Weight(Kg)'],df['Height(cm)'])\n",
    "plt.xlabel('Weight(kg)')\n",
    "plt.ylabel('Height(cm)')\n",
    "plt.show()"
   ]
  },
  {
   "cell_type": "code",
   "execution_count": null,
   "metadata": {},
   "outputs": [],
   "source": []
  }
 ],
 "metadata": {
  "kernelspec": {
   "display_name": "base",
   "language": "python",
   "name": "python3"
  },
  "language_info": {
   "codemirror_mode": {
    "name": "ipython",
    "version": 3
   },
   "file_extension": ".py",
   "mimetype": "text/x-python",
   "name": "python",
   "nbconvert_exporter": "python",
   "pygments_lexer": "ipython3",
   "version": "3.12.7"
  }
 },
 "nbformat": 4,
 "nbformat_minor": 2
}
